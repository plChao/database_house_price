{
 "cells": [
  {
   "cell_type": "code",
   "execution_count": 1,
   "metadata": {},
   "outputs": [],
   "source": [
    "import os\n",
    "import re\n",
    "import pandas as pd\n",
    "import numpy as np"
   ]
  },
  {
   "cell_type": "code",
   "execution_count": 2,
   "metadata": {},
   "outputs": [
    {
     "name": "stdout",
     "output_type": "stream",
     "text": [
      "Empty DataFrame\n",
      "Columns: [city, 鄉鎮市區, 交易標的, 土地區段位置建物區段門牌, 土地移轉總面積平方公尺, 都市土地使用分區, 非都市土地使用分區, 非都市土地使用編定, 交易年月日, 交易筆棟數, 移轉層次, 總樓層數, 建物型態, 主要用途, 主要建材, 建築完成年月, 建物移轉總面積平方公尺, 建物現況格局-房, 建物現況格局-廳, 建物現況格局-衛, 建物現況格局-隔間, 有無管理組織, 總價元, 單價元平方公尺, 車位類別, 車位移轉總面積平方公尺, 車位總價元, 備註, 編號]\n",
      "Index: []\n",
      "\n",
      "[0 rows x 29 columns]\n"
     ]
    }
   ],
   "source": [
    "df = pd.read_csv('../original/107_1/A_lvr_land_A.csv')\n",
    "df.drop([0], inplace=True)\n",
    "col = list(df.columns)\n",
    "col.insert(0, 'city')\n",
    "merge_df = pd.DataFrame(columns=col)\n",
    "print(merge_df)"
   ]
  },
  {
   "cell_type": "code",
   "execution_count": 3,
   "metadata": {},
   "outputs": [],
   "source": [
    "city_dict = {\n",
    "    'A':'臺北市', 'J':'新竹縣', 'S':'高雄縣', \n",
    "    'B':'臺中市', 'K':'苗栗縣', 'T':'屏東縣', \n",
    "    'C':'基隆市', 'L':'臺中縣', 'U':'花蓮縣', \n",
    "    'D':'臺南市', 'M':'南投縣', 'V':'臺東縣', \n",
    "    'E':'高雄市', 'N':'彰化縣', 'W':'金門縣', \n",
    "    'F':'臺北縣', 'O':'新竹市', 'X':'澎湖縣', \n",
    "    'G':'宜蘭縣', 'P':'雲林縣', 'Y':'陽明山', \n",
    "    'H':'桃園縣', 'Q':'嘉義縣', 'Z':'連江縣', \n",
    "    'I':'嘉義市', 'R':'臺南縣'}"
   ]
  },
  {
   "cell_type": "code",
   "execution_count": 4,
   "metadata": {},
   "outputs": [
    {
     "name": "stdout",
     "output_type": "stream",
     "text": [
      "107_1 22\n",
      "107_2 22\n",
      "107_3 22\n",
      "107_4 22\n",
      "108_1 22\n",
      "108_2 22\n",
      "108_3 22\n",
      "108_4 22\n",
      "109_1 22\n"
     ]
    }
   ],
   "source": [
    "for foldername in os.listdir(\"../original\"):\n",
    "    if re.match(\"10*\", foldername):\n",
    "        i = 0\n",
    "        for filename in os.listdir(\"../original/\" + foldername):\n",
    "            if re.match(\"[A-Z]_lvr_land_*\", filename):\n",
    "                i+=1\n",
    "#                 print('../original/'+ foldername + '/' + filename)\n",
    "                tmp_df = pd.read_csv('../original/'+ foldername + '/' + filename)\n",
    "                tmp_df.drop([0], inplace=True)\n",
    "#                 print(merge_df.shape, tmp_df.shape)\n",
    "                tmp_df['city'] = city_dict[filename[0]]\n",
    "                merge_df = merge_df.append(tmp_df, ignore_index=True)\n",
    "        print(foldername, i)"
   ]
  },
  {
   "cell_type": "code",
   "execution_count": 5,
   "metadata": {},
   "outputs": [
    {
     "name": "stdout",
     "output_type": "stream",
     "text": [
      "(724394, 29)\n",
      "(724391, 29)\n"
     ]
    }
   ],
   "source": [
    "print(merge_df.shape)\n",
    "merge_df = merge_df.loc[[len(x) >= 6 for x in merge_df['交易年月日']]]\n",
    "merge_df.reset_index(drop=True, inplace=True)\n",
    "merge_df = merge_df[merge_df['鄉鎮市區'].notna()]\n",
    "merge_df.reset_index(drop=True, inplace=True)\n",
    "print(merge_df.shape)\n",
    "# merge_df['yearmonth'] = [ x[:-2] for x in merge_df['交易年月日']]"
   ]
  },
  {
   "cell_type": "code",
   "execution_count": 6,
   "metadata": {},
   "outputs": [],
   "source": [
    "merge_df.to_csv('merge.csv', index=False, na_rep='NULL')"
   ]
  },
  {
   "cell_type": "code",
   "execution_count": 7,
   "metadata": {},
   "outputs": [
    {
     "data": {
      "text/plain": [
       "108    300667\n",
       "107    298939\n",
       "106     92593\n",
       "105     11071\n",
       "104      7068\n",
       "103      4598\n",
       "109      4214\n",
       "102      2948\n",
       "101      2019\n",
       "100        81\n",
       "99         61\n",
       "96         20\n",
       "98         19\n",
       "97          9\n",
       "92          8\n",
       "80          7\n",
       "93          6\n",
       "95          6\n",
       "91          5\n",
       "70          4\n",
       "86          4\n",
       "84          4\n",
       "18          4\n",
       "66          3\n",
       "65          3\n",
       "94          3\n",
       "78          3\n",
       "64          2\n",
       "88          2\n",
       "85          2\n",
       "87          2\n",
       "62          2\n",
       "76          1\n",
       "81          1\n",
       "63          1\n",
       "75          1\n",
       "15          1\n",
       "69          1\n",
       "82          1\n",
       "14          1\n",
       "17          1\n",
       "56          1\n",
       "71          1\n",
       "79          1\n",
       "77          1\n",
       "89          1\n",
       "Name: 0, dtype: int64"
      ]
     },
     "execution_count": 7,
     "metadata": {},
     "output_type": "execute_result"
    }
   ],
   "source": [
    "tmp_df = pd.DataFrame([ x[:-4] for x in merge_df['交易年月日']])\n",
    "tmp_df[0].value_counts()"
   ]
  },
  {
   "cell_type": "code",
   "execution_count": null,
   "metadata": {},
   "outputs": [],
   "source": []
  }
 ],
 "metadata": {
  "kernelspec": {
   "display_name": "Python 3",
   "language": "python",
   "name": "python3"
  },
  "language_info": {
   "codemirror_mode": {
    "name": "ipython",
    "version": 3
   },
   "file_extension": ".py",
   "mimetype": "text/x-python",
   "name": "python",
   "nbconvert_exporter": "python",
   "pygments_lexer": "ipython3",
   "version": "3.7.6"
  }
 },
 "nbformat": 4,
 "nbformat_minor": 4
}
