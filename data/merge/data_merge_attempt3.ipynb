{
 "cells": [
  {
   "cell_type": "code",
   "execution_count": 1,
   "metadata": {},
   "outputs": [],
   "source": [
    "import os\n",
    "import re\n",
    "import pandas as pd\n",
    "import numpy as np\n",
    "from tqdm import tqdm"
   ]
  },
  {
   "cell_type": "code",
   "execution_count": 2,
   "metadata": {},
   "outputs": [],
   "source": [
    "column_dict = {\n",
    "    'city':'city',\n",
    "    'yearmonth':'yearmonth',\n",
    "    '鄉鎮市區':'district',\n",
    "'交易標的':'trade_target',\n",
    "'土地區段位置建物區段門牌':'address',\n",
    "'土地移轉總面積平方公尺':'land_area',\n",
    "'都市土地使用分區':'area_use',\n",
    "'非都市土地使用分區':'nonmetro_d',\n",
    "'非都市土地使用編定':'nonmetro_u',\n",
    "'交易年月日':'trade_date',\n",
    "'交易筆棟數':'target_detail',\n",
    "'移轉層次':'trade_floor',\n",
    "'總樓層數':'total_floor',\n",
    "'建物型態':'state',\n",
    "'主要用途':'purpose',\n",
    "'主要建材':'materials',\n",
    "'建築完成年月':'building_date',\n",
    "'建物移轉總面積平方公尺':'building_area',\n",
    "'建物現況格局-房':'room',\n",
    "'建物現況格局-廳':'hall',\n",
    "'建物現況格局-衛':'health',\n",
    "'建物現況格局-隔間':'compartment',\n",
    "'有無管理組織':'manage',\n",
    "'總價元':'price',\n",
    "'單價元平方公尺':'unit_price',\n",
    "'車位類別':'berth_type',\n",
    "'車位移轉總面積平方公尺':'berth_area',\n",
    "'車位總價元':'berth_price',\n",
    "'備註':'note',\n",
    "'編號':'trade_id'}\n",
    "column_dict_inv = {v: k for k, v in column_dict.items()}"
   ]
  },
  {
   "cell_type": "code",
   "execution_count": 3,
   "metadata": {},
   "outputs": [
    {
     "name": "stdout",
     "output_type": "stream",
     "text": [
      "Empty DataFrame\n",
      "Columns: [city, 鄉鎮市區, 交易標的, 土地區段位置建物區段門牌, 土地移轉總面積平方公尺, 都市土地使用分區, 非都市土地使用分區, 非都市土地使用編定, 交易年月日, 交易筆棟數, 移轉層次, 總樓層數, 建物型態, 主要用途, 主要建材, 建築完成年月, 建物移轉總面積平方公尺, 建物現況格局-房, 建物現況格局-廳, 建物現況格局-衛, 建物現況格局-隔間, 有無管理組織, 總價元, 單價元平方公尺, 車位類別, 車位移轉總面積平方公尺, 車位總價元, 備註, 編號]\n",
      "Index: []\n",
      "\n",
      "[0 rows x 29 columns]\n"
     ]
    }
   ],
   "source": [
    "df = pd.read_csv('../original/107_1/A_lvr_land_A.csv')\n",
    "df.drop([0], inplace=True)\n",
    "col = list(df.columns)\n",
    "col.insert(0, 'city')\n",
    "merge_df = pd.DataFrame(columns=col)\n",
    "print(merge_df)"
   ]
  },
  {
   "cell_type": "code",
   "execution_count": 4,
   "metadata": {},
   "outputs": [],
   "source": [
    "city_dict = {\n",
    "    'A':'臺北市', 'J':'新竹縣', 'S':'高雄縣', \n",
    "    'B':'臺中市', 'K':'苗栗縣', 'T':'屏東縣', \n",
    "    'C':'基隆市', 'L':'臺中縣', 'U':'花蓮縣', \n",
    "    'D':'臺南市', 'M':'南投縣', 'V':'臺東縣', \n",
    "    'E':'高雄市', 'N':'彰化縣', 'W':'金門縣', \n",
    "    'F':'臺北縣', 'O':'新竹市', 'X':'澎湖縣', \n",
    "    'G':'宜蘭縣', 'P':'雲林縣', 'Y':'陽明山', \n",
    "    'H':'桃園縣', 'Q':'嘉義縣', 'Z':'連江縣', \n",
    "    'I':'嘉義市', 'R':'臺南縣'}"
   ]
  },
  {
   "cell_type": "code",
   "execution_count": 5,
   "metadata": {},
   "outputs": [
    {
     "name": "stdout",
     "output_type": "stream",
     "text": [
      "107_1 22\n",
      "107_2 22\n",
      "107_3 22\n",
      "107_4 22\n",
      "108_1 22\n",
      "108_2 22\n",
      "108_3 22\n",
      "108_4 22\n",
      "109_1 22\n"
     ]
    }
   ],
   "source": [
    "for foldername in os.listdir(\"../original\"):\n",
    "    if re.match(\"10*\", foldername):\n",
    "        i = 0\n",
    "        for filename in os.listdir(\"../original/\" + foldername):\n",
    "            if re.match(\"[A-Z]_lvr_land_*\", filename):\n",
    "                i+=1\n",
    "#                 print('../original/'+ foldername + '/' + filename)\n",
    "                tmp_df = pd.read_csv('../original/'+ foldername + '/' + filename)\n",
    "                tmp_df.drop([0], inplace=True)\n",
    "#                 print(merge_df.shape, tmp_df.shape)\n",
    "                tmp_df['city'] = city_dict[filename[0]]\n",
    "                merge_df = merge_df.append(tmp_df, ignore_index=True)\n",
    "        print(foldername, i)"
   ]
  },
  {
   "cell_type": "code",
   "execution_count": 6,
   "metadata": {},
   "outputs": [
    {
     "name": "stdout",
     "output_type": "stream",
     "text": [
      "(724394, 29)\n",
      "(724393, 29)\n",
      "(724391, 29)\n"
     ]
    }
   ],
   "source": [
    "print(merge_df.shape)\n",
    "merge_df = merge_df.loc[[len(x) >= 6 for x in merge_df['交易年月日']]]\n",
    "merge_df.reset_index(drop=True, inplace=True)\n",
    "print(merge_df.shape)\n",
    "merge_df = merge_df[merge_df['鄉鎮市區'].notna()]\n",
    "merge_df.reset_index(drop=True, inplace=True)\n",
    "print(merge_df.shape)\n",
    "merge_df['yearmonth'] = [ x[:-2] for x in merge_df['交易年月日']]\n",
    "merge_df.rename(columns=column_dict, inplace=True)\n",
    "merge_df = merge_df.replace(np.nan, 'NULL', regex=True)"
   ]
  },
  {
   "cell_type": "code",
   "execution_count": 7,
   "metadata": {},
   "outputs": [
    {
     "name": "stdout",
     "output_type": "stream",
     "text": [
      "    trade_target area_use compartment manage  num\n",
      "0      房地(土地+建物)        商           有      有    0\n",
      "1   房地(土地+建物)+車位        商           有      有    1\n",
      "2      房地(土地+建物)        住           有      有    2\n",
      "3             土地       其他           有      無    3\n",
      "4      房地(土地+建物)        住           有      無    4\n",
      "..           ...      ...         ...    ...  ...\n",
      "83            建物        住           有      有   83\n",
      "84            土地       其他           無      無   84\n",
      "85            車位       其他           無      無   85\n",
      "86            土地        住           無      無   86\n",
      "87            土地        住           無      有   87\n",
      "\n",
      "[88 rows x 5 columns]\n"
     ]
    }
   ],
   "source": [
    "# decompose\n",
    "land_df = merge_df[['trade_target', 'area_use','compartment', 'manage']].copy()\n",
    "land_df = land_df.drop_duplicates()\n",
    "land_df.reset_index(drop=True, inplace=True)\n",
    "land_df['num'] = range(len(land_df))\n",
    "print(land_df)\n",
    "land_df.to_csv('3_merge_1.csv', index=False, na_rep='NULL')\n",
    "# print(land_df.shape)"
   ]
  },
  {
   "cell_type": "code",
   "execution_count": 8,
   "metadata": {},
   "outputs": [
    {
     "name": "stdout",
     "output_type": "stream",
     "text": [
      "     nonmetro_d nonmetro_u            state  purpose    materials hall  \\\n",
      "0          NULL       NULL  住宅大樓(11層含以上有電梯)      商業用       鋼筋混凝土造    2   \n",
      "1          NULL       NULL  住宅大樓(11層含以上有電梯)  見其他登記事項     鋼骨鋼筋混凝土造    2   \n",
      "2          NULL       NULL  住宅大樓(11層含以上有電梯)     國民住宅       鋼筋混凝土造    2   \n",
      "3          NULL       NULL  住宅大樓(11層含以上有電梯)  見其他登記事項       鋼筋混凝土造    2   \n",
      "4          NULL       NULL  住宅大樓(11層含以上有電梯)  見其他登記事項       鋼筋混凝土造    1   \n",
      "...         ...        ...              ...      ...          ...  ...   \n",
      "6189        風景區       農牧用地               農舍  見其他登記事項      見其他登記事項    0   \n",
      "6190       NULL       NULL               其他      住商用           木造    1   \n",
      "6191        風景區     丙種建築用地              透天厝      住家用           竹造    1   \n",
      "6192       NULL       NULL    華廈(10層含以下有電梯)  見其他登記事項       鋼筋混凝土造   48   \n",
      "6193       NULL       NULL              透天厝      住家用  鋼筋混凝土加強空心磚造    3   \n",
      "\n",
      "     berth_type   num  \n",
      "0          NULL     0  \n",
      "1          坡道平面     1  \n",
      "2          NULL     2  \n",
      "3          NULL     3  \n",
      "4          NULL     4  \n",
      "...         ...   ...  \n",
      "6189       NULL  6189  \n",
      "6190       NULL  6190  \n",
      "6191       NULL  6191  \n",
      "6192       坡道平面  6192  \n",
      "6193       NULL  6193  \n",
      "\n",
      "[6194 rows x 8 columns]\n"
     ]
    }
   ],
   "source": [
    "struct_df = merge_df[['nonmetro_d', 'nonmetro_u', 'state', 'purpose', 'materials', 'hall', 'berth_type']].copy()\n",
    "struct_df.drop_duplicates(inplace=True)\n",
    "struct_df.reset_index(drop=True, inplace=True)\n",
    "struct_df['num'] = range(len(struct_df))\n",
    "struct_df.to_csv('3_merge_2.csv', index=False, na_rep='NULL')\n",
    "print(struct_df)"
   ]
  },
  {
   "cell_type": "code",
   "execution_count": 9,
   "metadata": {},
   "outputs": [
    {
     "name": "stdout",
     "output_type": "stream",
     "text": [
      "      city district total_floor room health    num\n",
      "0      臺北市      文山區         十六層    2      2      0\n",
      "1      臺北市      文山區        二十九層    3      2      1\n",
      "2      臺北市      文山區         十六層    3      2      2\n",
      "3      臺北市      中正區         十一層    1      1      3\n",
      "4      臺北市      中正區         十一層    2      1      4\n",
      "...    ...      ...         ...  ...    ...    ...\n",
      "43530  澎湖縣      馬公市          一層    6      2  43530\n",
      "43531  澎湖縣      馬公市          二層    5      5  43531\n",
      "43532  澎湖縣      馬公市          四層    2      2  43532\n",
      "43533  澎湖縣      馬公市          十層   16     16  43533\n",
      "43534  澎湖縣      白沙鄉          二層    9      5  43534\n",
      "\n",
      "[43535 rows x 6 columns]\n"
     ]
    }
   ],
   "source": [
    "other_df = merge_df[['city', 'district', 'total_floor', 'room', 'health']].copy()\n",
    "other_df.drop_duplicates(inplace=True)\n",
    "other_df.reset_index(drop=True, inplace=True)\n",
    "other_df['num'] = range(len(other_df))\n",
    "other_df.to_csv('3_merge_3.csv', index=False, na_rep='NULL')\n",
    "print(other_df)"
   ]
  },
  {
   "cell_type": "code",
   "execution_count": 11,
   "metadata": {},
   "outputs": [],
   "source": [
    "merge_df['num1'] = -1\n",
    "merge_df['num2'] = -1\n",
    "merge_df['num3'] = -1\n",
    "def add_num(row):\n",
    "#     ['trade_target', 'area_use','compartment', 'manage']\n",
    "#     tmp_df = land_df[(land_df['trade_target'] == row['trade_target']) & \\\n",
    "#               (land_df['area_use'] == row['area_use']) &\\\n",
    "#               (land_df['compartment'] == row['compartment']) &\\\n",
    "#               (land_df['manage'] == row['manage'])]\n",
    "#     if(len(tmp_df)!=1):\n",
    "#         print(\"error on num1\")\n",
    "#     row['num1'] = int(tmp_df['num'])\n",
    "    \n",
    "#     ['nonmetro_d', 'nonmetro_u', 'state', 'purpose', 'materials', 'hall', 'berth_type']\n",
    "#     tmp_df = struct_df[(struct_df['nonmetro_d'] == row['nonmetro_d']) & \\\n",
    "#               (struct_df['nonmetro_u'] == row['nonmetro_u']) &\\\n",
    "#               (struct_df['state'] == row['state']) &\\\n",
    "#               (struct_df['purpose'] == row['purpose']) &\\\n",
    "#               (struct_df['materials'] == row['materials']) &\\\n",
    "#               (struct_df['hall'] == row['hall'])&\\\n",
    "#                 (struct_df['berth_type'] == row['berth_type'])]\n",
    "#     if(len(tmp_df)!=1):\n",
    "#         print(\"error on num2\")\n",
    "#     row['num2'] = int(tmp_df['num'])\n",
    "    \n",
    "#     ['city', 'district', 'total_floor', 'room', 'health']\n",
    "#     tmp_df = other_df[(other_df['city'] == row['city']) & \\\n",
    "#               (other_df['district'] == row['district']) &\\\n",
    "#               (other_df['total_floor'] == row['total_floor']) &\\\n",
    "#               (other_df['room'] == row['room']) &\\\n",
    "#               (other_df['health'] == row['health'])]\n",
    "#     if(len(tmp_df)!=1):\n",
    "#         print(\"error on num3\")\n",
    "#     row['num3'] = int(tmp_df['num'])\n",
    "    return row\n",
    "\n",
    "last_df = merge_df"
   ]
  },
  {
   "cell_type": "code",
   "execution_count": 14,
   "metadata": {},
   "outputs": [
    {
     "name": "stdout",
     "output_type": "stream",
     "text": [
      "(724391, 16)\n",
      "Index(['address', 'land_area', 'trade_date', 'target_detail', 'trade_floor',\n",
      "       'building_date', 'building_area', 'price', 'unit_price', 'berth_area',\n",
      "       'berth_price', 'note', 'trade_id', 'num1', 'num2', 'num3'],\n",
      "      dtype='object')\n"
     ]
    }
   ],
   "source": [
    "small_merge = last_df.drop(['trade_target', 'area_use','compartment', 'manage'\\\n",
    "                            ,'nonmetro_d', 'nonmetro_u', 'state', 'purpose', 'materials', 'hall', 'berth_type'\\\n",
    "                            ,'city', 'district', 'total_floor', 'room', 'health', 'yearmonth'], axis=1)\n",
    "small_merge.to_csv('3_merge.csv', index=False, na_rep='NULL')\n",
    "print(small_merge.shape)\n",
    "print(small_merge.columns)"
   ]
  },
  {
   "cell_type": "code",
   "execution_count": 13,
   "metadata": {},
   "outputs": [
    {
     "data": {
      "text/plain": [
       "108    300667\n",
       "107    298939\n",
       "106     92593\n",
       "105     11071\n",
       "104      7068\n",
       "103      4598\n",
       "109      4214\n",
       "102      2948\n",
       "101      2019\n",
       "100        81\n",
       "99         61\n",
       "96         20\n",
       "98         19\n",
       "97          9\n",
       "92          8\n",
       "80          7\n",
       "93          6\n",
       "95          6\n",
       "91          5\n",
       "18          4\n",
       "84          4\n",
       "86          4\n",
       "70          4\n",
       "94          3\n",
       "78          3\n",
       "65          3\n",
       "66          3\n",
       "62          2\n",
       "64          2\n",
       "87          2\n",
       "88          2\n",
       "85          2\n",
       "56          1\n",
       "71          1\n",
       "77          1\n",
       "79          1\n",
       "75          1\n",
       "89          1\n",
       "81          1\n",
       "69          1\n",
       "15          1\n",
       "14          1\n",
       "82          1\n",
       "17          1\n",
       "76          1\n",
       "63          1\n",
       "Name: 0, dtype: int64"
      ]
     },
     "execution_count": 13,
     "metadata": {},
     "output_type": "execute_result"
    }
   ],
   "source": [
    "tmp_df = pd.DataFrame([ x[:-4] for x in merge_df['trade_date']])\n",
    "tmp_df[0].value_counts()"
   ]
  },
  {
   "cell_type": "code",
   "execution_count": null,
   "metadata": {},
   "outputs": [],
   "source": []
  }
 ],
 "metadata": {
  "kernelspec": {
   "display_name": "Python 3",
   "language": "python",
   "name": "python3"
  },
  "language_info": {
   "codemirror_mode": {
    "name": "ipython",
    "version": 3
   },
   "file_extension": ".py",
   "mimetype": "text/x-python",
   "name": "python",
   "nbconvert_exporter": "python",
   "pygments_lexer": "ipython3",
   "version": "3.7.6"
  }
 },
 "nbformat": 4,
 "nbformat_minor": 4
}
