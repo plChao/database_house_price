{
 "cells": [
  {
   "cell_type": "code",
   "execution_count": 1,
   "metadata": {},
   "outputs": [],
   "source": [
    "import os\n",
    "import re\n",
    "import pandas as pd\n",
    "import numpy as np"
   ]
  },
  {
   "cell_type": "code",
   "execution_count": 2,
   "metadata": {},
   "outputs": [],
   "source": [
    "column_dict = {\n",
    "    'city':'city',\n",
    "    'yearmonth':'yearmonth',\n",
    "    '鄉鎮市區':'district',\n",
    "'交易標的':'trade_target',\n",
    "'土地區段位置建物區段門牌':'address',\n",
    "'土地移轉總面積平方公尺':'land_area',\n",
    "'都市土地使用分區':'area_use',\n",
    "'非都市土地使用分區':'nonmetro_d',\n",
    "'非都市土地使用編定':'nonmetro_u',\n",
    "'交易年月日':'trade_date',\n",
    "'交易筆棟數':'target_detail',\n",
    "'移轉層次':'trade_floor',\n",
    "'總樓層數':'total_floor',\n",
    "'建物型態':'state',\n",
    "'主要用途':'purpose',\n",
    "'主要建材':'materials',\n",
    "'建築完成年月':'building_date',\n",
    "'建物移轉總面積平方公尺':'building_area',\n",
    "'建物現況格局-房':'room',\n",
    "'建物現況格局-廳':'hall',\n",
    "'建物現況格局-衛':'health',\n",
    "'建物現況格局-隔間':'compartment',\n",
    "'有無管理組織':'manage',\n",
    "'總價元':'price',\n",
    "'單價元平方公尺':'unit_price',\n",
    "'車位類別':'berth_type',\n",
    "'車位移轉總面積平方公尺':'berth_area',\n",
    "'車位總價元':'berth_price',\n",
    "'備註':'note',\n",
    "'編號':'trade_id'}\n",
    "column_dict_inv = {v: k for k, v in column_dict.items()}"
   ]
  },
  {
   "cell_type": "code",
   "execution_count": 3,
   "metadata": {},
   "outputs": [
    {
     "name": "stdout",
     "output_type": "stream",
     "text": [
      "Empty DataFrame\n",
      "Columns: [city, 鄉鎮市區, 交易標的, 土地區段位置建物區段門牌, 土地移轉總面積平方公尺, 都市土地使用分區, 非都市土地使用分區, 非都市土地使用編定, 交易年月日, 交易筆棟數, 移轉層次, 總樓層數, 建物型態, 主要用途, 主要建材, 建築完成年月, 建物移轉總面積平方公尺, 建物現況格局-房, 建物現況格局-廳, 建物現況格局-衛, 建物現況格局-隔間, 有無管理組織, 總價元, 單價元平方公尺, 車位類別, 車位移轉總面積平方公尺, 車位總價元, 備註, 編號]\n",
      "Index: []\n",
      "\n",
      "[0 rows x 29 columns]\n"
     ]
    }
   ],
   "source": [
    "df = pd.read_csv('../original/107_1/A_lvr_land_A.csv')\n",
    "df.drop([0], inplace=True)\n",
    "col = list(df.columns)\n",
    "col.insert(0, 'city')\n",
    "merge_df = pd.DataFrame(columns=col)\n",
    "print(merge_df)"
   ]
  },
  {
   "cell_type": "code",
   "execution_count": 4,
   "metadata": {},
   "outputs": [],
   "source": [
    "city_dict = {\n",
    "    'A':'臺北市', 'J':'新竹縣', 'S':'高雄縣', \n",
    "    'B':'臺中市', 'K':'苗栗縣', 'T':'屏東縣', \n",
    "    'C':'基隆市', 'L':'臺中縣', 'U':'花蓮縣', \n",
    "    'D':'臺南市', 'M':'南投縣', 'V':'臺東縣', \n",
    "    'E':'高雄市', 'N':'彰化縣', 'W':'金門縣', \n",
    "    'F':'臺北縣', 'O':'新竹市', 'X':'澎湖縣', \n",
    "    'G':'宜蘭縣', 'P':'雲林縣', 'Y':'陽明山', \n",
    "    'H':'桃園縣', 'Q':'嘉義縣', 'Z':'連江縣', \n",
    "    'I':'嘉義市', 'R':'臺南縣'}"
   ]
  },
  {
   "cell_type": "code",
   "execution_count": 5,
   "metadata": {},
   "outputs": [
    {
     "name": "stdout",
     "output_type": "stream",
     "text": [
      "107_1 22\n",
      "107_2 22\n",
      "107_3 22\n",
      "107_4 22\n",
      "108_1 22\n",
      "108_2 22\n",
      "108_3 22\n",
      "108_4 22\n",
      "109_1 22\n"
     ]
    }
   ],
   "source": [
    "for foldername in os.listdir(\"../original\"):\n",
    "    if re.match(\"10*\", foldername):\n",
    "        i = 0\n",
    "        for filename in os.listdir(\"../original/\" + foldername):\n",
    "            if re.match(\"[A-Z]_lvr_land_*\", filename):\n",
    "                i+=1\n",
    "#                 print('../original/'+ foldername + '/' + filename)\n",
    "                tmp_df = pd.read_csv('../original/'+ foldername + '/' + filename)\n",
    "                tmp_df.drop([0], inplace=True)\n",
    "#                 print(merge_df.shape, tmp_df.shape)\n",
    "                tmp_df['city'] = city_dict[filename[0]]\n",
    "                merge_df = merge_df.append(tmp_df, ignore_index=True)\n",
    "        print(foldername, i)"
   ]
  },
  {
   "cell_type": "code",
   "execution_count": 6,
   "metadata": {},
   "outputs": [
    {
     "name": "stdout",
     "output_type": "stream",
     "text": [
      "(724394, 29)\n",
      "(724391, 29)\n",
      "  city district  trade_target              address land_area area_use  \\\n",
      "0  臺北市      文山區     房地(土地+建物)   臺北市文山區景興路202巷1~30號       7.8        商   \n",
      "1  臺北市      文山區  房地(土地+建物)+車位  臺北市文山區木柵路三段151~180號     16.37        商   \n",
      "2  臺北市      文山區     房地(土地+建物)  臺北市文山區景福街54巷5弄1~30號     27.52        住   \n",
      "\n",
      "  nonmetro_d nonmetro_u trade_date target_detail  ... compartment manage  \\\n",
      "0        NaN        NaN    1060926     土地1建物1車位0  ...           有      有   \n",
      "1        NaN        NaN    1060804     土地1建物1車位1  ...           有      有   \n",
      "2        NaN        NaN    1061010     土地1建物1車位0  ...           有      有   \n",
      "\n",
      "      price unit_price berth_type berth_area berth_price            note  \\\n",
      "0  10200000     151515        NaN        0.0           0             NaN   \n",
      "1  42400000     188917       坡道平面      42.94     2000000  102.4.3預售屋買賣過戶   \n",
      "2  20300000     163486        NaN        0.0           0             NaN   \n",
      "\n",
      "              trade_id yearmonth  \n",
      "0  RPQOMLPKJIMFFAA37CA     10609  \n",
      "1  RPVOMLPKJIMFFAA87CA     10608  \n",
      "2  RPPNMLQKJIMFFAA27CA     10610  \n",
      "\n",
      "[3 rows x 30 columns]\n"
     ]
    }
   ],
   "source": [
    "print(merge_df.shape)\n",
    "merge_df = merge_df.loc[[len(x) >= 6 for x in merge_df['交易年月日']]]\n",
    "merge_df.reset_index(drop=True, inplace=True)\n",
    "merge_df = merge_df[merge_df['鄉鎮市區'].notna()]\n",
    "merge_df.reset_index(drop=True, inplace=True)\n",
    "print(merge_df.shape)\n",
    "merge_df['yearmonth'] = [ x[:-2] for x in merge_df['交易年月日']]\n",
    "merge_df.rename(columns=column_dict, inplace=True)\n",
    "print(merge_df[:3])"
   ]
  },
  {
   "cell_type": "code",
   "execution_count": 8,
   "metadata": {},
   "outputs": [
    {
     "name": "stdout",
     "output_type": "stream",
     "text": [
      "(133679, 3)\n"
     ]
    }
   ],
   "source": [
    "# decompose\n",
    "land_df = merge_df[['nonmetro_d', 'nonmetro_u', 'trade_id']].copy()\n",
    "land_df.dropna(thresh=2, inplace=True)\n",
    "land_df.reset_index(drop=True, inplace=True)\n",
    "land_df.to_csv('2_merge_land_info.csv', index=False, na_rep='NULL')\n",
    "print(land_df.shape)"
   ]
  },
  {
   "cell_type": "code",
   "execution_count": 9,
   "metadata": {},
   "outputs": [
    {
     "name": "stdout",
     "output_type": "stream",
     "text": [
      "(534657, 6)\n"
     ]
    }
   ],
   "source": [
    "struct_df = merge_df[['trade_floor','total_floor','purpose','materials','building_date','trade_id']].copy()\n",
    "struct_df.dropna(thresh=5, inplace=True)\n",
    "struct_df.reset_index(drop=True, inplace=True)\n",
    "struct_df.to_csv('2_merge_struct_info.csv', index=False, na_rep='NULL')\n",
    "print(struct_df.shape)"
   ]
  },
  {
   "cell_type": "code",
   "execution_count": 10,
   "metadata": {},
   "outputs": [
    {
     "name": "stdout",
     "output_type": "stream",
     "text": [
      "(407549, 3)\n"
     ]
    }
   ],
   "source": [
    "others_df = merge_df[['berth_type','note','trade_id']].copy()\n",
    "others_df.dropna(thresh=2, inplace=True)\n",
    "others_df.reset_index(drop=True, inplace=True)\n",
    "others_df.to_csv('2_merge_others_info.csv', index=False, na_rep='NULL')\n",
    "print(others_df.shape)"
   ]
  },
  {
   "cell_type": "code",
   "execution_count": 14,
   "metadata": {},
   "outputs": [
    {
     "name": "stdout",
     "output_type": "stream",
     "text": [
      "(724391, 21)\n",
      "Index(['city', 'district', 'trade_target', 'address', 'land_area', 'area_use',\n",
      "       'trade_date', 'target_detail', 'state', 'building_area', 'room', 'hall',\n",
      "       'health', 'compartment', 'manage', 'price', 'unit_price', 'berth_area',\n",
      "       'berth_price', 'trade_id', 'yearmonth'],\n",
      "      dtype='object')\n"
     ]
    }
   ],
   "source": [
    "small_merge = merge_df.drop(['nonmetro_d', 'nonmetro_u',\\\n",
    "               'trade_floor', 'total_floor', 'purpose', 'materials', 'building_date',\\\n",
    "               'berth_type', 'note'], axis=1)\n",
    "small_merge.to_csv('2_merge.csv', index=False, na_rep='NULL')\n",
    "print(small_merge.shape)\n",
    "print(small_merge.columns)"
   ]
  },
  {
   "cell_type": "code",
   "execution_count": 13,
   "metadata": {},
   "outputs": [
    {
     "data": {
      "text/plain": [
       "108    300667\n",
       "107    298939\n",
       "106     92593\n",
       "105     11071\n",
       "104      7068\n",
       "103      4598\n",
       "109      4214\n",
       "102      2948\n",
       "101      2019\n",
       "100        81\n",
       "99         61\n",
       "96         20\n",
       "98         19\n",
       "97          9\n",
       "92          8\n",
       "80          7\n",
       "93          6\n",
       "95          6\n",
       "91          5\n",
       "18          4\n",
       "84          4\n",
       "86          4\n",
       "70          4\n",
       "65          3\n",
       "66          3\n",
       "78          3\n",
       "94          3\n",
       "88          2\n",
       "85          2\n",
       "62          2\n",
       "87          2\n",
       "64          2\n",
       "63          1\n",
       "69          1\n",
       "76          1\n",
       "82          1\n",
       "77          1\n",
       "89          1\n",
       "75          1\n",
       "17          1\n",
       "15          1\n",
       "14          1\n",
       "79          1\n",
       "71          1\n",
       "81          1\n",
       "56          1\n",
       "Name: 0, dtype: int64"
      ]
     },
     "execution_count": 13,
     "metadata": {},
     "output_type": "execute_result"
    }
   ],
   "source": [
    "tmp_df = pd.DataFrame([ x[:-4] for x in merge_df['trade_date']])\n",
    "tmp_df[0].value_counts()"
   ]
  },
  {
   "cell_type": "code",
   "execution_count": null,
   "metadata": {},
   "outputs": [],
   "source": []
  }
 ],
 "metadata": {
  "kernelspec": {
   "display_name": "Python 3",
   "language": "python",
   "name": "python3"
  },
  "language_info": {
   "codemirror_mode": {
    "name": "ipython",
    "version": 3
   },
   "file_extension": ".py",
   "mimetype": "text/x-python",
   "name": "python",
   "nbconvert_exporter": "python",
   "pygments_lexer": "ipython3",
   "version": "3.7.6"
  }
 },
 "nbformat": 4,
 "nbformat_minor": 4
}
